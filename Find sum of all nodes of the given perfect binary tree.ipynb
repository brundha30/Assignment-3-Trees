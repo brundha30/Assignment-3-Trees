{
 "cells": [
  {
   "cell_type": "code",
   "execution_count": 1,
   "metadata": {},
   "outputs": [
    {
     "name": "stdout",
     "output_type": "stream",
     "text": [
      "Sum of all nodes: 28\n"
     ]
    }
   ],
   "source": [
    "class Node:\n",
    "    def __init__(self, value):\n",
    "        self.value = value\n",
    "        self.left = None\n",
    "        self.right = None\n",
    "\n",
    "\n",
    "class BinaryTree:\n",
    "    def __init__(self):\n",
    "        self.root = None\n",
    "\n",
    "    def build_perfect_tree(self, height):\n",
    "        self.root = self._build_perfect_tree_recursive(height, 1)\n",
    "\n",
    "    def _build_perfect_tree_recursive(self, height, value):\n",
    "        if height == 0:\n",
    "            return None\n",
    "\n",
    "        node = Node(value)\n",
    "        node.left = self._build_perfect_tree_recursive(height - 1, 2 * value)\n",
    "        node.right = self._build_perfect_tree_recursive(height - 1, 2 * value + 1)\n",
    "        return node\n",
    "\n",
    "    def sum_all_nodes(self):\n",
    "        return self._sum_all_nodes_recursive(self.root)\n",
    "\n",
    "    def _sum_all_nodes_recursive(self, node):\n",
    "        if node is None:\n",
    "            return 0\n",
    "\n",
    "        return node.value + self._sum_all_nodes_recursive(node.left) + self._sum_all_nodes_recursive(node.right)\n",
    "    \n",
    "tree = BinaryTree()\n",
    "\n",
    "tree.build_perfect_tree(3)\n",
    "\n",
    "total_sum = tree.sum_all_nodes()\n",
    "print(\"Sum of all nodes:\", total_sum)\n"
   ]
  },
  {
   "cell_type": "code",
   "execution_count": null,
   "metadata": {},
   "outputs": [],
   "source": []
  }
 ],
 "metadata": {
  "kernelspec": {
   "display_name": "Python 3",
   "language": "python",
   "name": "python3"
  },
  "language_info": {
   "codemirror_mode": {
    "name": "ipython",
    "version": 3
   },
   "file_extension": ".py",
   "mimetype": "text/x-python",
   "name": "python",
   "nbconvert_exporter": "python",
   "pygments_lexer": "ipython3",
   "version": "3.7.6"
  }
 },
 "nbformat": 4,
 "nbformat_minor": 4
}
