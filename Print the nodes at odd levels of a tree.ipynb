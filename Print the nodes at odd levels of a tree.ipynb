{
 "cells": [
  {
   "cell_type": "code",
   "execution_count": 1,
   "metadata": {},
   "outputs": [
    {
     "name": "stdout",
     "output_type": "stream",
     "text": [
      "Nodes at Odd Levels:\n",
      "1\n",
      "3\n",
      "5\n",
      "7\n"
     ]
    }
   ],
   "source": [
    "class Node:\n",
    "    def __init__(self, value):\n",
    "        self.value = value\n",
    "        self.left = None\n",
    "        self.right = None\n",
    "\n",
    "\n",
    "class BinaryTree:\n",
    "    def __init__(self):\n",
    "        self.root = None\n",
    "\n",
    "    def insert(self, value):\n",
    "        if self.root is None:\n",
    "            self.root = Node(value)\n",
    "        else:\n",
    "            self._insert_recursive(self.root, value)\n",
    "\n",
    "    def _insert_recursive(self, node, value):\n",
    "        if value < node.value:\n",
    "            if node.left is None:\n",
    "                node.left = Node(value)\n",
    "            else:\n",
    "                self._insert_recursive(node.left, value)\n",
    "        else:\n",
    "            if node.right is None:\n",
    "                node.right = Node(value)\n",
    "            else:\n",
    "                self._insert_recursive(node.right, value)\n",
    "\n",
    "    def print_odd_level_nodes(self):\n",
    "        self._print_odd_level_nodes_recursive(self.root, 1)\n",
    "\n",
    "    def _print_odd_level_nodes_recursive(self, node, level):\n",
    "        if node is None:\n",
    "            return\n",
    "\n",
    "        if level % 2 == 1:\n",
    "            print(node.value)\n",
    "\n",
    "        self._print_odd_level_nodes_recursive(node.left, level + 1)\n",
    "        self._print_odd_level_nodes_recursive(node.right, level + 1)\n",
    "\n",
    "tree = BinaryTree()\n",
    "\n",
    "tree.insert(1)\n",
    "tree.insert(2)\n",
    "tree.insert(3)\n",
    "tree.insert(4)\n",
    "tree.insert(5)\n",
    "tree.insert(6)\n",
    "tree.insert(7)\n",
    "\n",
    "print(\"Nodes at Odd Levels:\")\n",
    "tree.print_odd_level_nodes()"
   ]
  },
  {
   "cell_type": "code",
   "execution_count": null,
   "metadata": {},
   "outputs": [],
   "source": []
  }
 ],
 "metadata": {
  "kernelspec": {
   "display_name": "Python 3",
   "language": "python",
   "name": "python3"
  },
  "language_info": {
   "codemirror_mode": {
    "name": "ipython",
    "version": 3
   },
   "file_extension": ".py",
   "mimetype": "text/x-python",
   "name": "python",
   "nbconvert_exporter": "python",
   "pygments_lexer": "ipython3",
   "version": "3.7.6"
  }
 },
 "nbformat": 4,
 "nbformat_minor": 4
}
